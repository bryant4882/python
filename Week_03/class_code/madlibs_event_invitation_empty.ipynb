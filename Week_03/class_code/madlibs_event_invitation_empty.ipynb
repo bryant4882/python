{
 "cells": [
  {
   "cell_type": "markdown",
   "metadata": {},
   "source": [
    "# A Mad-Libs invitation generator\n",
    "\n",
    "Mad-Libs is a phrasal template word game where one player prompts others for a list of words to <b>substitute</b> for blanks in a story.\n",
    "\n",
    "We are going to create an event `invitation function` that would allow us to automate creating copies of event invitations.\n",
    "\n",
    "<span style=\"color:tomato\">The invitation template</span>:\n",
    "```\n",
    "    Hey, _guestname_!\n",
    "    You are invited to a _type_of_event_! Join us on _date_ at _location_!\n",
    "    Bring _items_.\n",
    "    \n",
    "    Best,\n",
    "    Party bear\n",
    "    \n",
    "```\n",
    "\n",
    "<span style=\"color:tomato\">An example output</span>:\n",
    "```\n",
    "    Hey, Sven!\n",
    "    You are invited to a gathering! Join us on dn2 yluJ at erauqS noinU!\n",
    "    Bring beverages, games, signs, masks, and facecovers.\n",
    "\n",
    "    Best,\n",
    "    Party bear\n",
    "```"
   ]
  },
  {
   "cell_type": "code",
   "execution_count": null,
   "metadata": {},
   "outputs": [],
   "source": [
    "# Break down components and structure of an invitation\n",
    "# Decide what data structures we need for different variables \n",
    "# create string variables to store word values\n",
    "# create a list of variables of store multiple items "
   ]
  },
  {
   "cell_type": "code",
   "execution_count": 3,
   "metadata": {},
   "outputs": [
    {
     "name": "stdout",
     "output_type": "stream",
     "text": [
      "<class 'str'>\n",
      "\n",
      "    Hey, _guestname_!\n",
      "    You are invited to a _type_of_event_! Join us on _date_ at _location_!\n",
      "    Bring _items_.\n",
      "\n",
      "    Best,\n",
      "    Party bear\n",
      "\n"
     ]
    }
   ],
   "source": [
    "# let's print out the invitation template first\n",
    "starter = \"\"\"\n",
    "    Hey, _guestname_!\n",
    "    You are invited to a _type_of_event_! Join us on _date_ at _location_!\n",
    "    Bring _items_.\n",
    "\n",
    "    Best,\n",
    "    Party bear\n",
    "\"\"\"\n",
    "print(type(starter))\n",
    "print(starter)"
   ]
  },
  {
   "cell_type": "code",
   "execution_count": 6,
   "metadata": {},
   "outputs": [
    {
     "name": "stdout",
     "output_type": "stream",
     "text": [
      "Hello, Anna and Lan.\n"
     ]
    }
   ],
   "source": [
    "# Learn about the basics % string formatting\n",
    "name1 = \"Anna\"\n",
    "name2 = \"Lan\"\n",
    "print(\"Hello, \" + name1 + \" and \"+ name2 + \".\")\n"
   ]
  },
  {
   "cell_type": "markdown",
   "metadata": {},
   "source": [
    "## String formatting\n",
    "\n",
    "- %d \n",
    "- %s\n",
    "- %f\n",
    "\n",
    "print( ) supports formatting of console output that is rudimentary at best. You can choose how to separate printed objects, and you can specify what goes at the end of the printed line. That’s about it.\n",
    "\n",
    "In many cases, you’ll need more `precise control` over the appearance of data destined for display. Python provides several ways to format output string data.\n",
    "\n",
    "- [string_formatting_modulo](https://realpython.com/python-input-output/#the-string-modulo-operator)\n",
    "- [newer_ways_of_string_formatting](https://realpython.com/python-formatted-output/)"
   ]
  },
  {
   "cell_type": "code",
   "execution_count": 18,
   "metadata": {},
   "outputs": [
    {
     "name": "stdout",
     "output_type": "stream",
     "text": [
      "Hello, Anna and Lan, welcome to 2020.92 summer python's tutorial session.\n"
     ]
    }
   ],
   "source": [
    "name1 = \"Anna\"\n",
    "name2 = \"Lan\"\n",
    "year = 2020.9238491\n",
    "print(\"Hello, %s and %s, welcome to %.2f summer python's tutorial session.\" % (name1, name2, year) )"
   ]
  },
  {
   "cell_type": "code",
   "execution_count": 32,
   "metadata": {},
   "outputs": [
    {
     "name": "stdout",
     "output_type": "stream",
     "text": [
      "2\n",
      "hello\n",
      "3\n",
      "4\n",
      "hey\n",
      "last:hey\n"
     ]
    }
   ],
   "source": [
    "# create our invitation template using string formatting\n",
    "# test out string formatting with only one parameter variable\n",
    "starter00 = \"Hey, %s:\"\n",
    "guestlist = ['Lan','Anna','Sven and friends']\n",
    "guestlist.append('Mary')\n",
    "# print(guestlist[0])\n",
    "# print(guestlist[-1])\n",
    "nums = [2,\"hello\",3,4,\"hey\"]\n",
    "for a in nums:\n",
    "    print(a)\n",
    "\n",
    "print(\"last:\" + str(a))"
   ]
  },
  {
   "cell_type": "code",
   "execution_count": 43,
   "metadata": {},
   "outputs": [],
   "source": [
    "starter = \"\"\"\n",
    "    Hey, %s!\n",
    "    You are invited to a %s! Join us on %s at %s!\n",
    "    Bring %s.\n",
    "\n",
    "    Best,\n",
    "    Party bear\n",
    "\"\"\"\n",
    "\n",
    "#for guest in guestlist:\n",
    "    #print(starter % (guest))"
   ]
  },
  {
   "cell_type": "code",
   "execution_count": 83,
   "metadata": {},
   "outputs": [
    {
     "name": "stdout",
     "output_type": "stream",
     "text": [
      "string: a backpack, an umbrella, a popsicle, games, flowers, friends\n",
      "a backpack, an umbrella, a popsicle, games, flowers, and friends\n",
      "\n",
      "    Hey, Lan!\n",
      "    You are invited to a gathering! Join us on ht02 yluJ at erauqS noinU!\n",
      "    Bring a backpack, an umbrella, a popsicle, games, flowers, and friends.\n",
      "\n",
      "    Best,\n",
      "    Party bear\n",
      "\n",
      "\n",
      "    Hey, Anna!\n",
      "    You are invited to a gathering! Join us on ht02 yluJ at erauqS noinU!\n",
      "    Bring a backpack, an umbrella, a popsicle, games, flowers, and friends.\n",
      "\n",
      "    Best,\n",
      "    Party bear\n",
      "\n",
      "\n",
      "    Hey, Sven and friends!\n",
      "    You are invited to a gathering! Join us on ht02 yluJ at erauqS noinU!\n",
      "    Bring a backpack, an umbrella, a popsicle, games, flowers, and friends.\n",
      "\n",
      "    Best,\n",
      "    Party bear\n",
      "\n",
      "\n",
      "    Hey, Mary!\n",
      "    You are invited to a gathering! Join us on ht02 yluJ at erauqS noinU!\n",
      "    Bring a backpack, an umbrella, a popsicle, games, flowers, and friends.\n",
      "\n",
      "    Best,\n",
      "    Party bear\n",
      "\n"
     ]
    }
   ],
   "source": [
    "# create our guestlist and event info using lists and tuples\n",
    "_type_of_event_ = 'gathering'\n",
    "_date_ = 'July 20th'\n",
    "_location_ = 'Union Square'\n",
    "_items_ = ['a backpack','an umbrella','a popsicle','games','flowers','friends']\n",
    "\n",
    "# A string method called string.join(list)\n",
    "items = ', '.join(_items_)\n",
    "print(\"string: \" + items)\n",
    "\n",
    "\n",
    "part1 = ', '.join(_items_[:-1])\n",
    "part2 = ', and %s' % (_items_[-1])\n",
    "\n",
    "print(part1 + part2)\n",
    "\n",
    "for guest in guestlist:\n",
    "    print(starter % (guest,\n",
    "                     _type_of_event_,\n",
    "                     _date_[::-1],\n",
    "                     _location_[::-1],\n",
    "                     part1 + part2))"
   ]
  },
  {
   "cell_type": "code",
   "execution_count": 77,
   "metadata": {},
   "outputs": [],
   "source": [
    "# create functions that will automate some process\n",
    "def createInvitations(guestlist,event_type,date,location,items):\n",
    "    # template\n",
    "    starter = \"\"\"\n",
    "        Hey, %s!\n",
    "        You are invited to a %s! Join us on %s at %s!\n",
    "        Bring %s.\n",
    "\n",
    "        Best,\n",
    "        Party bear\n",
    "        \n",
    "        ---\n",
    "    \"\"\"\n",
    "    # parses the item list\n",
    "    # items = ', '.join(items)\n",
    "    \n",
    "    items_except_last = items[:-1]\n",
    "    part1 = ', '.join(items_except_last)\n",
    "    part2 = ', and %s' % (items[-1])\n",
    "    item_sen = part1 + part2\n",
    "    \n",
    "    # create copies of variables that store arguments\n",
    "    event = event_type\n",
    "    date_backwards = date\n",
    "    \n",
    "    for guest in guestlist:\n",
    "        print(starter % (guest,\n",
    "                         event,\n",
    "                         date_backwards,\n",
    "                         location,\n",
    "                         item_sen))\n",
    "    "
   ]
  },
  {
   "cell_type": "code",
   "execution_count": 80,
   "metadata": {},
   "outputs": [],
   "source": [
    "#def functionName(argument):\n",
    "    # execute code"
   ]
  },
  {
   "cell_type": "code",
   "execution_count": 84,
   "metadata": {},
   "outputs": [
    {
     "ename": "NameError",
     "evalue": "name 'dfgdfgdf' is not defined",
     "output_type": "error",
     "traceback": [
      "\u001b[0;31m--------------------------------------------------------------\u001b[0m",
      "\u001b[0;31mNameError\u001b[0m                    Traceback (most recent call last)",
      "\u001b[0;32m<ipython-input-84-21975b571108>\u001b[0m in \u001b[0;36m<module>\u001b[0;34m\u001b[0m\n\u001b[1;32m      5\u001b[0m \u001b[0msome_stuff\u001b[0m \u001b[0;34m=\u001b[0m \u001b[0;34m[\u001b[0m\u001b[0;34m'a book'\u001b[0m\u001b[0;34m,\u001b[0m\u001b[0;34m'a pen'\u001b[0m\u001b[0;34m]\u001b[0m\u001b[0;34m\u001b[0m\u001b[0;34m\u001b[0m\u001b[0m\n\u001b[1;32m      6\u001b[0m \u001b[0;34m\u001b[0m\u001b[0m\n\u001b[0;32m----> 7\u001b[0;31m \u001b[0mcreateInvitations\u001b[0m\u001b[0;34m(\u001b[0m\u001b[0mli\u001b[0m\u001b[0;34m,\u001b[0m\u001b[0;34m'birthday party'\u001b[0m\u001b[0;34m,\u001b[0m\u001b[0;34m'August 1st'\u001b[0m\u001b[0;34m,\u001b[0m\u001b[0;34m'My HOME'\u001b[0m\u001b[0;34m,\u001b[0m\u001b[0mdfgdfgdf\u001b[0m\u001b[0;34m)\u001b[0m\u001b[0;34m\u001b[0m\u001b[0;34m\u001b[0m\u001b[0m\n\u001b[0m\u001b[1;32m      8\u001b[0m \u001b[0mcreateInvitations\u001b[0m\u001b[0;34m(\u001b[0m\u001b[0mli\u001b[0m\u001b[0;34m,\u001b[0m\u001b[0;34m'book club event'\u001b[0m\u001b[0;34m,\u001b[0m\u001b[0;34m'Oct 21st'\u001b[0m\u001b[0;34m,\u001b[0m\u001b[0;34m'library'\u001b[0m\u001b[0;34m,\u001b[0m\u001b[0msome_stuff\u001b[0m\u001b[0;34m)\u001b[0m\u001b[0;34m\u001b[0m\u001b[0;34m\u001b[0m\u001b[0m\n",
      "\u001b[0;31mNameError\u001b[0m: name 'dfgdfgdf' is not defined"
     ]
    }
   ],
   "source": [
    "# let's populate\n",
    "# guestlist,event_type,date,location,items\n",
    "li = ['rabbit','bee','piglet']\n",
    "stuff = ['gifts','drinks','good spirit']\n",
    "some_stuff = ['a book','a pen']\n",
    "\n",
    "createInvitations(li,'birthday party','August 1st','My HOME',dfgdfgdf)\n",
    "createInvitations(li,'book club event','Oct 21st','library',some_stuff)"
   ]
  },
  {
   "cell_type": "code",
   "execution_count": 86,
   "metadata": {},
   "outputs": [
    {
     "data": {
      "text/plain": [
       "['apples', 'oranges', 'apples']"
      ]
     },
     "execution_count": 86,
     "metadata": {},
     "output_type": "execute_result"
    }
   ],
   "source": [
    "fruits = [\"apples\",\"oranges\",\"apples\"]\n",
    "fruits[:len(fruits)]"
   ]
  },
  {
   "cell_type": "code",
   "execution_count": null,
   "metadata": {},
   "outputs": [],
   "source": []
  }
 ],
 "metadata": {
  "kernelspec": {
   "display_name": "Python 3",
   "language": "python",
   "name": "python3"
  },
  "language_info": {
   "codemirror_mode": {
    "name": "ipython",
    "version": 3
   },
   "file_extension": ".py",
   "mimetype": "text/x-python",
   "name": "python",
   "nbconvert_exporter": "python",
   "pygments_lexer": "ipython3",
   "version": "3.7.4"
  }
 },
 "nbformat": 4,
 "nbformat_minor": 2
}
