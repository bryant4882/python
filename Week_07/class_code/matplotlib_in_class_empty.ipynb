{
 "cells": [
  {
   "cell_type": "markdown",
   "metadata": {},
   "source": [
    "# Intro to Data Visualization Libraries\n",
    "\n",
    "Continuing from the Pandas exercise, for this live code exercise we are going to use the 311 dataset from [NYC Open Data](https://opendata.cityofnewyork.us/) to create some charts using Matplotlib, Seaborn, and Plotly."
   ]
  },
  {
   "cell_type": "markdown",
   "metadata": {},
   "source": [
    "## Matplotlib"
   ]
  },
  {
   "cell_type": "code",
   "execution_count": null,
   "metadata": {
    "scrolled": true
   },
   "outputs": [],
   "source": [
    "# importing numpy, pandas, and matplotlib\n",
    "import numpy as np\n",
    "import pandas as pd\n",
    "import matplotlib.pyplot as plt\n",
    "\n",
    "# reading the csv file into a pandas dataframe\n",
    "df = pd.read_csv('311_Service_Requests_from_2010_to_Present.csv')\n",
    "\n",
    "# creating a new dataframe of complaints that only contain the word \"noise\" in the Complaint Type column\n",
    "noise = df[df['Complaint Type'].str.contains('Noise')]\n",
    "\n",
    "# creating a new dataframe that just keeps the columns we want\n",
    "noise_info = noise[['Borough', 'Complaint Type', 'Location Type', 'Latitude', 'Longitude']]\n",
    "\n",
    "# resetting the index\n",
    "noise_info.reset_index(drop=True, inplace=True)\n",
    "\n",
    "# getting the first ten entries\n",
    "noise_info.head(10)"
   ]
  },
  {
   "cell_type": "code",
   "execution_count": null,
   "metadata": {},
   "outputs": [],
   "source": [
    "complaint_by_borough = noise_info.groupby(by='Borough').count()\n",
    "complaint_by_borough"
   ]
  },
  {
   "cell_type": "code",
   "execution_count": null,
   "metadata": {},
   "outputs": [],
   "source": [
    "# reset the index so borough is at the dataframe level\n",
    "complaint_by_borough.reset_index(level=0, inplace=True)\n",
    "complaint_by_borough"
   ]
  },
  {
   "cell_type": "code",
   "execution_count": null,
   "metadata": {},
   "outputs": [],
   "source": [
    "# plot a bar chart"
   ]
  },
  {
   "cell_type": "code",
   "execution_count": null,
   "metadata": {},
   "outputs": [],
   "source": [
    "# rotate the x axis labels so that you can read them better"
   ]
  },
  {
   "cell_type": "code",
   "execution_count": null,
   "metadata": {},
   "outputs": [],
   "source": [
    "# change the color of the bar chart"
   ]
  },
  {
   "cell_type": "code",
   "execution_count": null,
   "metadata": {},
   "outputs": [],
   "source": [
    "# add a title"
   ]
  },
  {
   "cell_type": "code",
   "execution_count": null,
   "metadata": {},
   "outputs": [],
   "source": [
    "# add y axis label"
   ]
  },
  {
   "cell_type": "code",
   "execution_count": null,
   "metadata": {},
   "outputs": [],
   "source": [
    "# remove legend"
   ]
  },
  {
   "cell_type": "markdown",
   "metadata": {},
   "source": [
    "## Extra credit: Seaborn"
   ]
  },
  {
   "cell_type": "code",
   "execution_count": null,
   "metadata": {},
   "outputs": [],
   "source": [
    "import seaborn as sns\n",
    "\n",
    "# you must change NAME_OF_DATAFRAME and COLUMN_NAME in your own code!\n",
    "\n",
    "sns.set()\n",
    "sns.barplot('COLUMN_NAME', 'COLUMN_NAME', data=NAME_OF_DATAFRAME)"
   ]
  },
  {
   "cell_type": "markdown",
   "metadata": {},
   "source": [
    "## Extra credit: Plotly"
   ]
  },
  {
   "cell_type": "code",
   "execution_count": null,
   "metadata": {},
   "outputs": [],
   "source": [
    "import pandas as pd\n",
    "\n",
    "import plotly.express as px\n",
    "\n",
    "# reading the csv file into a pandas dataframe\n",
    "df = pd.read_csv('311_Service_Requests_from_2010_to_Present.csv')\n",
    "\n",
    "# creating a new dataframe of complaints that only contain the word \"noise\" in the Complaint Type column\n",
    "noise = df[df['Complaint Type'].str.contains('Noise')]\n",
    "\n",
    "# creating a new dataframe that just keeps the columns we want\n",
    "noise_info = noise[['Borough', 'Complaint Type', 'Location Type', 'Latitude', 'Longitude']]\n",
    "\n",
    "# modify Plotly code from first example here: https://plotly.com/python/mapbox-layers/\n",
    "# you must change NAME_OF_DATAFRAME and COLUMN_NAME in your own code!\n",
    "fig = px.scatter_mapbox(NAME_OF_DATAFRAME, lat=\"COLUMN_NAME\", lon=\"COLUMN_NAME\",\n",
    "                        color_discrete_sequence=[\"fuchsia\"], zoom=10, height=500)\n",
    "fig.update_layout(mapbox_style=\"open-street-map\")\n",
    "fig.update_layout(margin={\"r\":0,\"t\":0,\"l\":0,\"b\":0})\n",
    "fig.show()"
   ]
  },
  {
   "cell_type": "code",
   "execution_count": null,
   "metadata": {},
   "outputs": [],
   "source": []
  }
 ],
 "metadata": {
  "kernelspec": {
   "display_name": "Python 3",
   "language": "python",
   "name": "python3"
  },
  "language_info": {
   "codemirror_mode": {
    "name": "ipython",
    "version": 3
   },
   "file_extension": ".py",
   "mimetype": "text/x-python",
   "name": "python",
   "nbconvert_exporter": "python",
   "pygments_lexer": "ipython3",
   "version": "3.7.4"
  }
 },
 "nbformat": 4,
 "nbformat_minor": 4
}
